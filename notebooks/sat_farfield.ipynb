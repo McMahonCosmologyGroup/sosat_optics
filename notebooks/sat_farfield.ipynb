{
 "cells": [
  {
   "cell_type": "markdown",
   "metadata": {},
   "source": [
    "# SAT Optics Simulation: Far-Field\n",
    "\n",
    "This notebook models the far-field beam of the Small Aperture Telescope.  We use the near-field beam simulated in the $\\verb|sat_holography|$ notebook and the fourier relationship between near- and far-fields to propagate this beam into the far-field. \n",
    "\n",
    "Grace E. Chesmore\n",
    "March 2022\n",
    "\n",
    "### Read in the near-field beam\n"
   ]
  },
  {
   "cell_type": "code",
   "execution_count": null,
   "metadata": {
    "jupyter": {
     "source_hidden": true
    },
    "tags": []
   },
   "outputs": [],
   "source": [
    "import numpy as np\n",
    "import matplotlib\n",
    "import matplotlib.font_manager as font_manager\n",
    "import matplotlib.pyplot as plt\n",
    "from scipy import interpolate\n",
    "\n",
    "%matplotlib inline\n",
    "\n",
    "import sosat_optics\n",
    "from sosat_optics import ot_geo, opt_analyze,ray_trace\n",
    "\n",
    "# Load in telescope geometry\n",
    "tele_geo = ot_geo.SatGeo()\n",
    "tele_geo.n_scan = 100  # sample number in 1D of 2D grid\n",
    "tele_geo.y_source = (\n",
    "    ot_geo.y_lyot + 300\n",
    ")  # distance of holography source from SAT focal plane.\n",
    "# tele_geo.lambda_ = 0.002  # wavelength of source, here we choose 150GHz.\n",
    "tele_geo.lambda_ = 0.0023\n",
    "tele_geo.k = 2 * np.pi / tele_geo.lambda_  # update kappa\n",
    "fwhms = np.load('../feedhorn/fwhm_feedhorns.npy')\n",
    "tele_geo.th_fwhp_x = np.deg2rad(fwhms[np.where(fwhms[:,0]== int(opt_analyze.m_to_ghz(tele_geo.lambda_))),1])\n",
    "tele_geo.th_fwhp_y = np.deg2rad(fwhms[np.where(fwhms[:,0]== int(opt_analyze.m_to_ghz(tele_geo.lambda_))),2])\n",
    "\n",
    "rx = [0,0,0]  # receiver feed position in focal plane [mm]\n",
    "# x_sim, y_sim, a_sim, p_sim = ray_trace.rx_to_lyot_OLD(rx, tele_geo, 0, \"b\")\n",
    "sb = ray_trace.getNearField(tele_geo, rx,plot=False) # get near field\n",
    "sb2 = ray_trace.sim2d(sb) # get 2d near field"
   ]
  },
  {
   "cell_type": "markdown",
   "metadata": {},
   "source": [
    "## Propagating Aperture-field into the Far-field\n",
    "\n",
    "Now that we have our near-fields $b(x,y)$ above the SAT window, we want to propagate the fields into the far-field $B(\\theta,\\phi)$ using the relation:\n",
    "\n",
    "$$ B(\\theta,\\phi) = \\int_{aperture} b(x,y)e^{i2\\pi(x\\theta + y\\phi)} dx dy$$\n",
    "\n",
    "where we integrate over the aperture, which is the window of the SAT."
   ]
  },
  {
   "cell_type": "code",
   "execution_count": null,
   "metadata": {},
   "outputs": [],
   "source": [
    "sb2_data = ray_trace.sim_data(sb2,80,2)\n",
    "\n",
    "plt.figure(figsize=(13, 5))\n",
    "plt.subplot(121)\n",
    "plt.pcolormesh(sb2_data.x_data, sb2_data.y_data, np.abs(sb2_data.a_data), shading='auto')\n",
    "plt.colorbar()\n",
    "plt.xlabel(\"x [cm]\")\n",
    "plt.ylabel(\"y [cm]\")\n",
    "plt.title(\"Near-field of SAT\")\n",
    "plt.axis(\"equal\")\n",
    "plt.subplot(122)\n",
    "plt.pcolormesh(sb2_data.x_data, sb2_data.y_data, sb2_data.p_data, shading='auto')\n",
    "plt.colorbar()\n",
    "plt.xlabel(\"x [cm]\")\n",
    "plt.ylabel(\"y [cm]\")\n",
    "plt.title(\"Near-field of SAT\")\n",
    "plt.axis(\"equal\")\n",
    "plt.show()\n"
   ]
  },
  {
   "cell_type": "code",
   "execution_count": null,
   "metadata": {},
   "outputs": [],
   "source": [
    "pix_num = 100\n",
    "x_new, y_new, beam_data = opt_analyze.zero_pad(sb2_data.x_data, sb2_data.y_data, sb2_data.a_data, pix_num)\n",
    "x_data, y_data, phase_data = opt_analyze.zero_pad(sb2_data.x_data,sb2_data.y_data, sb2_data.p_data, pix_num)\n",
    "beam_fft, phase_fft = opt_analyze.a2b(beam_data, np.rad2deg(phase_data))\n",
    "x_ang, y_ang = opt_analyze.coords_spat_to_ang(\n",
    "    x_data / 1e2, y_data / 1e2, opt_analyze.m_to_ghz(tele_geo.lambda_)\n",
    ")\n",
    "\n",
    "plt.figure(figsize=(6, 5))\n",
    "plt.title(\"SAT Far-field 90GHz\")\n",
    "plt.pcolormesh(\n",
    "    x_ang * 180 * 60 / np.pi,\n",
    "    y_ang * 180 * 60 / np.pi,\n",
    "    20 * np.log10(abs(beam_fft) / np.max(abs(beam_fft))),\n",
    "    vmin=-60,\n",
    "    shading=\"auto\",\n",
    ")\n",
    "plt.xlabel(\"[arcmin]\")\n",
    "plt.ylabel(\"[arcmin]\")\n",
    "plt.colorbar(label=\"dB\")\n",
    "plt.axis(\"equal\")\n",
    "plt.xlim(-80, 80)\n",
    "plt.ylim(-80, 80)\n",
    "plt.show()"
   ]
  },
  {
   "cell_type": "markdown",
   "metadata": {},
   "source": [
    "## Predicted Beam Size\n",
    "Our simulated beam size determines the resolution of our telescope.  We can compare this to the beam size of an Airy disc with aperture $D$ at wavelength $\\lambda$:\n",
    "\n",
    "$$\\theta_{FWHM} = 1.025 \\frac{\\lambda}{D} $$"
   ]
  },
  {
   "cell_type": "code",
   "execution_count": null,
   "metadata": {
    "jupyter": {
     "source_hidden": true
    },
    "tags": []
   },
   "outputs": [],
   "source": [
    "fwhm_est = ray_trace.ff_fwhm_est(beam_fft, x_ang, y_ang)\n",
    "print(\"Estimated FWHM: {:.2f} arcmin\".format(fwhm_est))"
   ]
  },
  {
   "cell_type": "markdown",
   "metadata": {},
   "source": [
    "### Now for multiple frequencies:"
   ]
  },
  {
   "cell_type": "code",
   "execution_count": null,
   "metadata": {},
   "outputs": [],
   "source": [
    "freq_arr = [85, 90, 95, 102, 106, 110, 115, 130, 135, 140]\n",
    "\n",
    "for ii,freq in enumerate(freq_arr):\n",
    "\n",
    "    tele_geo.n_scan = 150  # sample number in 1D of 2D grid\n",
    "    tele_geo.lambda_ = opt_analyze.ghz_to_m(freq)\n",
    "    tele_geo.k = 2 * np.pi / tele_geo.lambda_  # update kappa\n",
    "    tele_geo.th_fwhp_x = np.deg2rad(fwhms[np.where(fwhms[:,0]== int(freq)),1])\n",
    "    tele_geo.th_fwhp_y = np.deg2rad(fwhms[np.where(fwhms[:,0]== int(freq)),2])\n",
    "\n",
    "    rx = [0,0,0]  # receiver feed position in focal plane [mm]\n",
    "    \n",
    "    sb = ray_trace.getNearField(tele_geo, rx,plot=False) # get near field\n",
    "    sb2 = ray_trace.sim2d(sb) # get 2d near field\n",
    "    sb2_data = ray_trace.sim_data(sb2,200,.25)\n",
    "\n",
    "    pix_num = 100\n",
    "    x_new, y_new, beam_data = opt_analyze.zero_pad(sb2_data.x_data, sb2_data.y_data, sb2_data.a_data, pix_num)\n",
    "    x_data, y_data, phase_data = opt_analyze.zero_pad(sb2_data.x_data,sb2_data.y_data, sb2_data.p_data, pix_num)\n",
    "    beam_fft, phase_fft = opt_analyze.a2b(beam_data, np.rad2deg(phase_data))\n",
    "    x_ang, y_ang = opt_analyze.coords_spat_to_ang(\n",
    "        x_data / 1e2, y_data / 1e2, opt_analyze.m_to_ghz(tele_geo.lambda_)\n",
    "    )\n",
    "    fwhm_est = ray_trace.ff_fwhm_est(beam_fft, x_ang, y_ang)\n",
    "    print(\"Estimated FWHM: {:.2f} arcmin\".format(fwhm_est))\n"
   ]
  }
 ],
 "metadata": {
  "kernelspec": {
   "display_name": "Python 3.8.5 ('base')",
   "language": "python",
   "name": "python3"
  },
  "language_info": {
   "codemirror_mode": {
    "name": "ipython",
    "version": 3
   },
   "file_extension": ".py",
   "mimetype": "text/x-python",
   "name": "python",
   "nbconvert_exporter": "python",
   "pygments_lexer": "ipython3",
   "version": "3.8.5"
  },
  "vscode": {
   "interpreter": {
    "hash": "3067ead486e059ec00ffe7555bdb889e6e264a24dc711bf108106cc7baee8d5d"
   }
  }
 },
 "nbformat": 4,
 "nbformat_minor": 4
}
