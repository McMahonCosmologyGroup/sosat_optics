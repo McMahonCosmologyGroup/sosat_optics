{
 "cells": [
  {
   "cell_type": "markdown",
   "metadata": {},
   "source": [
    "# SAT Optics Simulation: Far-Field\n",
    "\n",
    "This notebook models the far-field beam of the Small Aperture Telescope.  We use the near-field beam simulated in the $\\verb|sat_holography|$ notebook and the fourier relationship between near- and far-fields to propagate this beam into the far-field. \n",
    "\n",
    "Grace E. Chesmore\n",
    "March 2022\n",
    "\n",
    "### Read in the near-field beam\n"
   ]
  },
  {
   "cell_type": "code",
   "execution_count": 1,
   "metadata": {
    "jupyter": {
     "source_hidden": true
    },
    "tags": []
   },
   "outputs": [
    {
     "name": "stderr",
     "output_type": "stream",
     "text": [
      "/home/chesmore/.local/lib/python3.8/site-packages/sosat_optics/ot_geo.py:65: RuntimeWarning: invalid value encountered in sqrt\n",
      "  amp = (c * r ** 2) / (1 + np.sqrt(1 - ((1 + k) * c ** 2 * r ** 2)))\n",
      "/home/chesmore/.local/lib/python3.8/site-packages/sosat_optics/ot_geo.py:107: RuntimeWarning: invalid value encountered in sqrt\n",
      "  coeff_2 = (c * 2) / (1 + np.sqrt(1 - ((1 + k) * c ** 2 * r ** 2)))\n",
      "/home/chesmore/.local/lib/python3.8/site-packages/sosat_optics/ot_geo.py:109: RuntimeWarning: invalid value encountered in sqrt\n",
      "  np.sqrt(1 - ((1 + k) * c ** 2 * r ** 2))\n",
      "/home/chesmore/.local/lib/python3.8/site-packages/sosat_optics/ot_geo.py:110: RuntimeWarning: invalid value encountered in sqrt\n",
      "  * (1 + np.sqrt(1 - ((1 + k) * c ** 2 * r ** 2))) ** 2\n",
      "/home/chesmore/.local/lib/python3.8/site-packages/sosat_optics/ray_trace.py:13: RuntimeWarning: invalid value encountered in sqrt\n",
      "  s2 = (n1 / n2) * np.cross(N_surf, (np.cross(-N_surf, s1))) - N_surf * np.sqrt(\n"
     ]
    }
   ],
   "source": [
    "import numpy as np\n",
    "import matplotlib\n",
    "import matplotlib.font_manager as font_manager\n",
    "import matplotlib.pyplot as plt\n",
    "from scipy import interpolate\n",
    "\n",
    "%matplotlib inline\n",
    "\n",
    "import sosat_optics\n",
    "from sosat_optics import ot_geo, opt_analyze\n",
    "from sosat_optics import ray_trace\n",
    "\n",
    "# Load in telescope geometry\n",
    "tele_geo = ot_geo.SatGeo()\n",
    "tele_geo.n_scan = 50  # sample number in 1D of 2D grid\n",
    "tele_geo.y_source = (\n",
    "    ot_geo.y_lyot + 100\n",
    ")  # distance of holography source from SAT focal plane.\n",
    "tele_geo.lambda_ = 0.002  # wavelength of source, here we choose 150GHz.\n",
    "tele_geo.k = 2 * np.pi / tele_geo.lambda_  # update kappa\n",
    "\n",
    "rx = [0,0,0]  # receiver feed position in focal plane\n",
    "x_sim, y_sim, a_sim, p_sim = ray_trace.rx_to_lyot(rx, tele_geo, 0, \"b\")\n",
    "# Convert pathlength to phase\n",
    "p_sim = np.mod(tele_geo.k * (p_sim - np.mean(p_sim)) / 1e3 / 2, 2 * np.pi)"
   ]
  },
  {
   "cell_type": "code",
   "execution_count": null,
   "metadata": {
    "jupyter": {
     "source_hidden": true
    },
    "tags": []
   },
   "outputs": [],
   "source": [
    "# Define the complex beam from ray-trace outputs\n",
    "noise = 1e-6  # signal-to-noise of holography setup\n",
    "a_sim /= np.max(abs(a_sim))\n",
    "a_sim = a_sim + noise\n",
    "beam_sim = (a_sim / np.max(a_sim)) * np.exp(complex(0, 1) * p_sim)\n",
    "\n",
    "# Define the dimmensions of the waveguide\n",
    "apert1 = 1  # [cm]\n",
    "apert2 = 1  # [cm]\n",
    "\n",
    "# Convolve beam\n",
    "x, y, beam_conv = opt_analyze.beam_convolve(\n",
    "    np.real(x_sim) / 1e1, np.real(y_sim) / 1e1, beam_sim, apert1, apert2, 0\n",
    ")"
   ]
  },
  {
   "cell_type": "markdown",
   "metadata": {},
   "source": [
    "## Propagating Aperture-field into the Far-field\n",
    "\n",
    "Now that we have our near-fields $b(x,y)$ above the SAT window, we want to propagate the fields into the far-field $B(\\theta,\\phi)$ using the relation:\n",
    "\n",
    "$$ B(\\theta,\\phi) = \\int_{aperture} b(x,y)e^{i2\\pi(x\\theta + y\\phi)} dx dy$$\n",
    "\n",
    "where we integrate over the aperture, which is the window of the SAT."
   ]
  },
  {
   "cell_type": "code",
   "execution_count": null,
   "metadata": {
    "jupyter": {
     "source_hidden": true
    },
    "tags": []
   },
   "outputs": [],
   "source": [
    "# Zero padding: to increase the resolution of our far-field\n",
    "# we zero-pad the aperture fields before propagating.  Set\n",
    "# the number of pixels to pad to the array.\n",
    "pix_num = 85\n",
    "\n",
    "x_new, y_new, beam_final = opt_analyze.zero_pad(x, y, beam_conv, pix_num)\n",
    "print(((x_new[0,0] - x_new[0,1])))\n",
    "print(((np.max(x_new) - np.min(x_new))))\n",
    "\n",
    "plt.pcolormesh(x_new, y_new, np.abs(beam_final))"
   ]
  },
  {
   "cell_type": "code",
   "execution_count": null,
   "metadata": {},
   "outputs": [],
   "source": [
    "\n",
    "phase = np.arctan2(np.imag(beam_final), np.real(beam_final))\n",
    "beam_fft, phase_fft = opt_analyze.a2b(beam_final, phase * 180 / np.pi)\n",
    "\n",
    "x_ang, y_ang = opt_analyze.coords_spat_to_ang(\n",
    "    x_new / 1e2, y_new / 1e2, opt_analyze.m_to_ghz(tele_geo.lambda_)\n",
    ")\n",
    "\n",
    "plt.figure(figsize=(6, 5))\n",
    "plt.title(\"SAT Far-field 150GHz\")\n",
    "plt.pcolormesh(\n",
    "    x_ang * 180 * 60 / np.pi,\n",
    "    y_ang * 180 * 60 / np.pi,\n",
    "    20 * np.log10(abs(beam_fft) / np.max(abs(beam_fft))),\n",
    "    vmin=-60,\n",
    "    shading=\"auto\",\n",
    ")\n",
    "plt.xlabel(\"[arcmin]\")\n",
    "plt.ylabel(\"[arcmin]\")\n",
    "plt.colorbar(label=\"dB\")\n",
    "plt.axis(\"equal\")\n",
    "# plt.xlim(-80, 80)\n",
    "# plt.ylim(-80, 80)\n",
    "plt.show()"
   ]
  },
  {
   "cell_type": "markdown",
   "metadata": {},
   "source": [
    "## Predicted Beam Size\n",
    "Our simulated beam size determines the resolution of our telescope.  We can compare this to the beam size of an Airy disc with aperture $D$ at wavelength $\\lambda$:\n",
    "\n",
    "$$\\theta_{FWHM} = 1.025 \\frac{\\lambda}{D} $$"
   ]
  },
  {
   "cell_type": "code",
   "execution_count": null,
   "metadata": {
    "jupyter": {
     "source_hidden": true
    },
    "tags": []
   },
   "outputs": [],
   "source": [
    "a = abs(beam_fft) ** 2 / np.max(abs(beam_fft) ** 2)\n",
    "x_out = y_ang\n",
    "y_out = x_ang\n",
    "\n",
    "indx = np.where(abs(a) == np.max(abs(a)))\n",
    "x = y_out[indx[0][0], :] * 60 * 180 / np.pi\n",
    "y = abs(a)[indx[0][0], :] / np.max(abs(a))\n",
    "v1 = x[np.where((y > 0.5))][0]\n",
    "v2 = x[np.where((y > 0.5))][-1]\n",
    "\n",
    "fwhm1 = abs(v1 - v2)\n",
    "\n",
    "indx = np.where(abs(a) == np.max(abs(a)))\n",
    "x = x_out[:, indx[1][0]] * 60 * 180 / np.pi\n",
    "y = abs(a)[:, indx[1][0]] / np.max(abs(a))\n",
    "v1 = x[np.where((y > 0.5))][0]\n",
    "v2 = x[np.where((y > 0.5))][-1]\n",
    "\n",
    "fwhm2 = abs(v1 - v2)\n",
    "fwhm = (fwhm1 + fwhm2) / 2\n",
    "print(f\"Simulated beam size: {fwhm:.2f} arcmin.\")\n",
    "print(\n",
    "    f\"Predicted beam size: {opt_analyze.rad_to_arcmin((1.025*tele_geo.lambda_ /tele_geo.diam)):.2f} arcmin.\"\n",
    ")"
   ]
  },
  {
   "cell_type": "code",
   "execution_count": null,
   "metadata": {},
   "outputs": [],
   "source": []
  }
 ],
 "metadata": {
  "kernelspec": {
   "display_name": "Python 3.8.5 ('base')",
   "language": "python",
   "name": "python3"
  },
  "language_info": {
   "codemirror_mode": {
    "name": "ipython",
    "version": 3
   },
   "file_extension": ".py",
   "mimetype": "text/x-python",
   "name": "python",
   "nbconvert_exporter": "python",
   "pygments_lexer": "ipython3",
   "version": "3.8.5"
  },
  "vscode": {
   "interpreter": {
    "hash": "3067ead486e059ec00ffe7555bdb889e6e264a24dc711bf108106cc7baee8d5d"
   }
  }
 },
 "nbformat": 4,
 "nbformat_minor": 4
}
