{
 "cells": [
  {
   "cell_type": "markdown",
   "metadata": {},
   "source": [
    "# SAT Optics Simulation: Requirements and Beam Sizes\n",
    "\n",
    "This notebook predicts the beam sizes for the SAT optics in the near-field over the full MF band and also the far-field beam sizes on sky.\n",
    "\n",
    "Grace E. Chesmore\n",
    "March 2022"
   ]
  },
  {
   "cell_type": "code",
   "execution_count": 1,
   "metadata": {},
   "outputs": [
    {
     "name": "stderr",
     "output_type": "stream",
     "text": [
      "  0%|          | 0/22500 [00:00<?, ?it/s]/home/chesmore/.local/lib/python3.8/site-packages/sosat_optics/ot_geo.py:67: RuntimeWarning: invalid value encountered in sqrt\n",
      "  amp = (c * r ** 2) / (1 + np.sqrt(1 - ((1 + k) * c ** 2 * r ** 2)))\n",
      "/home/chesmore/.local/lib/python3.8/site-packages/sosat_optics/ot_geo.py:109: RuntimeWarning: invalid value encountered in sqrt\n",
      "  coeff_2 = (c * 2) / (1 + np.sqrt(1 - ((1 + k) * c ** 2 * r ** 2)))\n",
      "/home/chesmore/.local/lib/python3.8/site-packages/sosat_optics/ot_geo.py:111: RuntimeWarning: invalid value encountered in sqrt\n",
      "  np.sqrt(1 - ((1 + k) * c ** 2 * r ** 2))\n",
      "/home/chesmore/.local/lib/python3.8/site-packages/sosat_optics/ot_geo.py:112: RuntimeWarning: invalid value encountered in sqrt\n",
      "  * (1 + np.sqrt(1 - ((1 + k) * c ** 2 * r ** 2))) ** 2\n",
      "/home/chesmore/.local/lib/python3.8/site-packages/sosat_optics/ray_trace.py:31: RuntimeWarning: invalid value encountered in sqrt\n",
      "  s2 = (n1 / n2) * np.cross(N_surf, (np.cross(-N_surf, s1))) - N_surf * np.sqrt(\n",
      "  2%|▏         | 398/22500 [00:00<00:33, 658.86it/s]/home/chesmore/.local/lib/python3.8/site-packages/sosat_optics/ot_geo.py:110: RuntimeWarning: divide by zero encountered in double_scalars\n",
      "  coeff_3 = (c ** 3 * (k + 1) * r ** 2) / (\n",
      "/home/chesmore/.local/lib/python3.8/site-packages/sosat_optics/ray_trace.py:1410: RuntimeWarning: invalid value encountered in true_divide\n",
      "  N_hat = norm_temp / np.sqrt(sum(norm_temp ** 2))\n",
      " 35%|███▌      | 7976/22500 [00:11<00:20, 709.66it/s]"
     ]
    }
   ],
   "source": [
    "import numpy as np\n",
    "import matplotlib\n",
    "import matplotlib.pyplot as plt\n",
    "from scipy import interpolate\n",
    "%matplotlib inline\n",
    "%config InlineBackend.figure_format = 'retina'\n",
    "import sosat_optics\n",
    "from sosat_optics import ot_geo, ray_trace, opt_analyze\n",
    "\n",
    "matplotlib.rcParams[\"font.size\"] = 16\n",
    "matplotlib.rcParams.update(\n",
    "    {\n",
    "        \"axes.grid\": False,\n",
    "        \"grid.color\": \"grey\",\n",
    "        \"grid.alpha\": 0.2,\n",
    "        \"xtick.direction\": \"in\",\n",
    "        \"ytick.direction\": \"in\",\n",
    "    }\n",
    ")\n",
    "\n",
    "red = '#e42536'\n",
    "blue = '#570efc'\n",
    "orange = '#f89c20'\n",
    "\n",
    "# Load in telescope geometry\n",
    "tele_geo = ot_geo.SatGeo() # Load in default geometry\n",
    "rx = [0, 0, 0]  # receiver feed position in focal plane [x,d_FPA,y]\n",
    "tele_geo.n_scan = 150  # sample number in 1D of 2D ray tracing\n",
    "tele_geo.y_source = (\n",
    "    ot_geo.y_lyot + 200\n",
    ")  # distance of holography source from SAT focal plane.\n",
    "fwhms = np.load('../feedhorn/fwhm_feedhorns.npy')\n",
    "\n",
    "freq_arr = np.arange(70,170,10)\n",
    "fwhm_mf = np.zeros((len(freq_arr),2))\n",
    "\n",
    "for ii,fre in enumerate(freq_arr):\n",
    "    tele_geo.lambda_ = opt_analyze.ghz_to_m(fre)  # wavelength of source, here we choose 106GHz.\n",
    "    tele_geo.k = 2 * np.pi / tele_geo.lambda_  # update kappa\n",
    "    tele_geo.th_fwhp_x = np.deg2rad(fwhms[np.where(fwhms[:,0]== int(fre)),1])\n",
    "    tele_geo.th_fwhp_y = np.deg2rad(fwhms[np.where(fwhms[:,0]== int(fre)),2])\n",
    "\n",
    "    sb = ray_trace.getNearField(tele_geo, rx,plot=False) # get near field\n",
    "\n",
    "    fwhm_out = ray_trace.get_fwhm(sb) # get fwhm of near field\n",
    "    fwhm_mf[ii,:] = fwhm_out"
   ]
  },
  {
   "cell_type": "code",
   "execution_count": null,
   "metadata": {},
   "outputs": [],
   "source": [
    "plt.plot(freq_arr,fwhm_mf[:,0],'o-',color=red,label=r'$FWHM_{x}$')\n",
    "plt.plot(freq_arr,fwhm_mf[:,1],'o-',color=blue,label=r'$FWHM_{y}$')\n",
    "plt.annotate('%d cm from FPA' %(tele_geo.y_source/1e1), (85,8), color='k')\n",
    "plt.xlabel('Frequency [GHz]')\n",
    "plt.ylabel('FWHM [cm]')\n",
    "plt.legend()\n",
    "plt.show()"
   ]
  }
 ],
 "metadata": {
  "kernelspec": {
   "display_name": "Python 3.8.5 ('base')",
   "language": "python",
   "name": "python3"
  },
  "language_info": {
   "codemirror_mode": {
    "name": "ipython",
    "version": 3
   },
   "file_extension": ".py",
   "mimetype": "text/x-python",
   "name": "python",
   "nbconvert_exporter": "python",
   "pygments_lexer": "ipython3",
   "version": "3.8.5"
  },
  "orig_nbformat": 4,
  "vscode": {
   "interpreter": {
    "hash": "3067ead486e059ec00ffe7555bdb889e6e264a24dc711bf108106cc7baee8d5d"
   }
  }
 },
 "nbformat": 4,
 "nbformat_minor": 2
}
